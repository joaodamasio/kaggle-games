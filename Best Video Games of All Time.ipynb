{
 "cells": [
  {
   "cell_type": "markdown",
   "id": "956d30fc",
   "metadata": {},
   "source": [
    "# Analysis of the best video games of all time"
   ]
  },
  {
   "cell_type": "markdown",
   "id": "1131e858",
   "metadata": {},
   "source": [
    "## Import libries"
   ]
  },
  {
   "cell_type": "code",
   "execution_count": 430,
   "id": "87331ab8",
   "metadata": {},
   "outputs": [],
   "source": [
    "import pandas as pd\n",
    "import matplotlib.pyplot as plt\n",
    "import seaborn as sns\n",
    "import numpy as np"
   ]
  },
  {
   "cell_type": "code",
   "execution_count": 431,
   "id": "478e3533",
   "metadata": {},
   "outputs": [],
   "source": [
    "df = pd.read_csv('data/data.csv', index_col=0 )"
   ]
  },
  {
   "cell_type": "code",
   "execution_count": 432,
   "id": "9b1d2093",
   "metadata": {},
   "outputs": [
    {
     "data": {
      "text/html": [
       "<div>\n",
       "<style scoped>\n",
       "    .dataframe tbody tr th:only-of-type {\n",
       "        vertical-align: middle;\n",
       "    }\n",
       "\n",
       "    .dataframe tbody tr th {\n",
       "        vertical-align: top;\n",
       "    }\n",
       "\n",
       "    .dataframe thead th {\n",
       "        text-align: right;\n",
       "    }\n",
       "</style>\n",
       "<table border=\"1\" class=\"dataframe\">\n",
       "  <thead>\n",
       "    <tr style=\"text-align: right;\">\n",
       "      <th></th>\n",
       "      <th>Name</th>\n",
       "      <th>Unnamed: 2</th>\n",
       "      <th>Platform</th>\n",
       "      <th>Metascore</th>\n",
       "      <th>Date</th>\n",
       "      <th>Title</th>\n",
       "      <th>Unnamed: 7</th>\n",
       "    </tr>\n",
       "    <tr>\n",
       "      <th>Rank</th>\n",
       "      <th></th>\n",
       "      <th></th>\n",
       "      <th></th>\n",
       "      <th></th>\n",
       "      <th></th>\n",
       "      <th></th>\n",
       "      <th></th>\n",
       "    </tr>\n",
       "  </thead>\n",
       "  <tbody>\n",
       "    <tr>\n",
       "      <th>1</th>\n",
       "      <td>The Legend of Zelda: Ocarina of Time</td>\n",
       "      <td>NaN</td>\n",
       "      <td>Nintendo 64</td>\n",
       "      <td>99</td>\n",
       "      <td>23-Nov-98</td>\n",
       "      <td>As a young boy, Link is tricked by Ganondorf, ...</td>\n",
       "      <td>NaN</td>\n",
       "    </tr>\n",
       "    <tr>\n",
       "      <th>2</th>\n",
       "      <td>Tony Hawk's Pro Skater 2</td>\n",
       "      <td>NaN</td>\n",
       "      <td>PlayStation</td>\n",
       "      <td>98</td>\n",
       "      <td>20-Sep-00</td>\n",
       "      <td>As most major publishers' development efforts ...</td>\n",
       "      <td>NaN</td>\n",
       "    </tr>\n",
       "    <tr>\n",
       "      <th>3</th>\n",
       "      <td>Grand Theft Auto IV</td>\n",
       "      <td>NaN</td>\n",
       "      <td>PlayStation 3</td>\n",
       "      <td>98</td>\n",
       "      <td>29-Apr-08</td>\n",
       "      <td>[Metacritic's 2008 PS3 Game of the Year; Also ...</td>\n",
       "      <td>NaN</td>\n",
       "    </tr>\n",
       "    <tr>\n",
       "      <th>4</th>\n",
       "      <td>SoulCalibur</td>\n",
       "      <td>NaN</td>\n",
       "      <td>Dreamcast</td>\n",
       "      <td>98</td>\n",
       "      <td>8-Sep-99</td>\n",
       "      <td>This is a tale of souls and swords, transcendi...</td>\n",
       "      <td>NaN</td>\n",
       "    </tr>\n",
       "    <tr>\n",
       "      <th>5</th>\n",
       "      <td>Grand Theft Auto IV</td>\n",
       "      <td>NaN</td>\n",
       "      <td>Xbox 360</td>\n",
       "      <td>98</td>\n",
       "      <td>29-Apr-08</td>\n",
       "      <td>[Metacritic's 2008 Xbox 360 Game of the Year; ...</td>\n",
       "      <td>NaN</td>\n",
       "    </tr>\n",
       "    <tr>\n",
       "      <th>...</th>\n",
       "      <td>...</td>\n",
       "      <td>...</td>\n",
       "      <td>...</td>\n",
       "      <td>...</td>\n",
       "      <td>...</td>\n",
       "      <td>...</td>\n",
       "      <td>...</td>\n",
       "    </tr>\n",
       "    <tr>\n",
       "      <th>96</th>\n",
       "      <td>Sid Meier's Civilization II</td>\n",
       "      <td>NaN</td>\n",
       "      <td>PC</td>\n",
       "      <td>94</td>\n",
       "      <td>29-Feb-96</td>\n",
       "      <td>An empire-building turn-based strategy game. T...</td>\n",
       "      <td>NaN</td>\n",
       "    </tr>\n",
       "    <tr>\n",
       "      <th>97</th>\n",
       "      <td>Quake</td>\n",
       "      <td>NaN</td>\n",
       "      <td>PC</td>\n",
       "      <td>94</td>\n",
       "      <td>22-Jun-96</td>\n",
       "      <td>Rage through 32 single player levels and 6 dea...</td>\n",
       "      <td>NaN</td>\n",
       "    </tr>\n",
       "    <tr>\n",
       "      <th>98</th>\n",
       "      <td>Call of Duty 4: Modern Warfare</td>\n",
       "      <td>NaN</td>\n",
       "      <td>Xbox 360</td>\n",
       "      <td>94</td>\n",
       "      <td>5-Nov-07</td>\n",
       "      <td>As Call of Duty 4: Modern Warfare's single pla...</td>\n",
       "      <td>NaN</td>\n",
       "    </tr>\n",
       "    <tr>\n",
       "      <th>99</th>\n",
       "      <td>BioShock Infinite</td>\n",
       "      <td>NaN</td>\n",
       "      <td>PC</td>\n",
       "      <td>94</td>\n",
       "      <td>25-Mar-13</td>\n",
       "      <td>Initially conceived as a floating symbol of Am...</td>\n",
       "      <td>NaN</td>\n",
       "    </tr>\n",
       "    <tr>\n",
       "      <th>100</th>\n",
       "      <td>Halo 3</td>\n",
       "      <td>NaN</td>\n",
       "      <td>Xbox 360</td>\n",
       "      <td>94</td>\n",
       "      <td>25-Sep-07</td>\n",
       "      <td>Halo 3 is the third game in the Halo Trilogy a...</td>\n",
       "      <td>NaN</td>\n",
       "    </tr>\n",
       "  </tbody>\n",
       "</table>\n",
       "<p>100 rows × 7 columns</p>\n",
       "</div>"
      ],
      "text/plain": [
       "                                      Name  Unnamed: 2       Platform  \\\n",
       "Rank                                                                    \n",
       "1     The Legend of Zelda: Ocarina of Time         NaN    Nintendo 64   \n",
       "2                 Tony Hawk's Pro Skater 2         NaN    PlayStation   \n",
       "3                      Grand Theft Auto IV         NaN  PlayStation 3   \n",
       "4                              SoulCalibur         NaN      Dreamcast   \n",
       "5                      Grand Theft Auto IV         NaN       Xbox 360   \n",
       "...                                    ...         ...            ...   \n",
       "96             Sid Meier's Civilization II         NaN             PC   \n",
       "97                                   Quake         NaN             PC   \n",
       "98          Call of Duty 4: Modern Warfare         NaN       Xbox 360   \n",
       "99                       BioShock Infinite         NaN             PC   \n",
       "100                                 Halo 3         NaN       Xbox 360   \n",
       "\n",
       "      Metascore       Date                                              Title  \\\n",
       "Rank                                                                            \n",
       "1            99  23-Nov-98  As a young boy, Link is tricked by Ganondorf, ...   \n",
       "2            98  20-Sep-00  As most major publishers' development efforts ...   \n",
       "3            98  29-Apr-08  [Metacritic's 2008 PS3 Game of the Year; Also ...   \n",
       "4            98   8-Sep-99  This is a tale of souls and swords, transcendi...   \n",
       "5            98  29-Apr-08  [Metacritic's 2008 Xbox 360 Game of the Year; ...   \n",
       "...         ...        ...                                                ...   \n",
       "96           94  29-Feb-96  An empire-building turn-based strategy game. T...   \n",
       "97           94  22-Jun-96  Rage through 32 single player levels and 6 dea...   \n",
       "98           94   5-Nov-07  As Call of Duty 4: Modern Warfare's single pla...   \n",
       "99           94  25-Mar-13  Initially conceived as a floating symbol of Am...   \n",
       "100          94  25-Sep-07  Halo 3 is the third game in the Halo Trilogy a...   \n",
       "\n",
       "      Unnamed: 7  \n",
       "Rank              \n",
       "1            NaN  \n",
       "2            NaN  \n",
       "3            NaN  \n",
       "4            NaN  \n",
       "5            NaN  \n",
       "...          ...  \n",
       "96           NaN  \n",
       "97           NaN  \n",
       "98           NaN  \n",
       "99           NaN  \n",
       "100          NaN  \n",
       "\n",
       "[100 rows x 7 columns]"
      ]
     },
     "execution_count": 432,
     "metadata": {},
     "output_type": "execute_result"
    }
   ],
   "source": [
    "df"
   ]
  },
  {
   "cell_type": "markdown",
   "id": "d8ae2598",
   "metadata": {},
   "source": [
    "## Seeing the first impressions"
   ]
  },
  {
   "cell_type": "code",
   "execution_count": 433,
   "id": "daf1ae2f",
   "metadata": {},
   "outputs": [
    {
     "name": "stdout",
     "output_type": "stream",
     "text": [
      "<class 'pandas.core.frame.DataFrame'>\n",
      "Int64Index: 100 entries, 1 to 100\n",
      "Data columns (total 7 columns):\n",
      " #   Column      Non-Null Count  Dtype  \n",
      "---  ------      --------------  -----  \n",
      " 0   Name        100 non-null    object \n",
      " 1   Unnamed: 2  0 non-null      float64\n",
      " 2   Platform    100 non-null    object \n",
      " 3   Metascore   100 non-null    int64  \n",
      " 4   Date        100 non-null    object \n",
      " 5   Title       100 non-null    object \n",
      " 6   Unnamed: 7  0 non-null      float64\n",
      "dtypes: float64(2), int64(1), object(4)\n",
      "memory usage: 6.2+ KB\n"
     ]
    }
   ],
   "source": [
    "df.info()"
   ]
  },
  {
   "cell_type": "code",
   "execution_count": 434,
   "id": "7003d0ed",
   "metadata": {},
   "outputs": [
    {
     "data": {
      "text/plain": [
       "(100, 7)"
      ]
     },
     "execution_count": 434,
     "metadata": {},
     "output_type": "execute_result"
    }
   ],
   "source": [
    "df.shape"
   ]
  },
  {
   "cell_type": "code",
   "execution_count": 435,
   "id": "3a428f8d",
   "metadata": {},
   "outputs": [
    {
     "data": {
      "text/html": [
       "<div>\n",
       "<style scoped>\n",
       "    .dataframe tbody tr th:only-of-type {\n",
       "        vertical-align: middle;\n",
       "    }\n",
       "\n",
       "    .dataframe tbody tr th {\n",
       "        vertical-align: top;\n",
       "    }\n",
       "\n",
       "    .dataframe thead th {\n",
       "        text-align: right;\n",
       "    }\n",
       "</style>\n",
       "<table border=\"1\" class=\"dataframe\">\n",
       "  <thead>\n",
       "    <tr style=\"text-align: right;\">\n",
       "      <th></th>\n",
       "      <th>Unnamed: 2</th>\n",
       "      <th>Metascore</th>\n",
       "      <th>Unnamed: 7</th>\n",
       "    </tr>\n",
       "  </thead>\n",
       "  <tbody>\n",
       "    <tr>\n",
       "      <th>count</th>\n",
       "      <td>0.0</td>\n",
       "      <td>100.000000</td>\n",
       "      <td>0.0</td>\n",
       "    </tr>\n",
       "    <tr>\n",
       "      <th>mean</th>\n",
       "      <td>NaN</td>\n",
       "      <td>95.480000</td>\n",
       "      <td>NaN</td>\n",
       "    </tr>\n",
       "    <tr>\n",
       "      <th>std</th>\n",
       "      <td>NaN</td>\n",
       "      <td>1.251101</td>\n",
       "      <td>NaN</td>\n",
       "    </tr>\n",
       "    <tr>\n",
       "      <th>min</th>\n",
       "      <td>NaN</td>\n",
       "      <td>94.000000</td>\n",
       "      <td>NaN</td>\n",
       "    </tr>\n",
       "    <tr>\n",
       "      <th>25%</th>\n",
       "      <td>NaN</td>\n",
       "      <td>94.000000</td>\n",
       "      <td>NaN</td>\n",
       "    </tr>\n",
       "    <tr>\n",
       "      <th>50%</th>\n",
       "      <td>NaN</td>\n",
       "      <td>95.000000</td>\n",
       "      <td>NaN</td>\n",
       "    </tr>\n",
       "    <tr>\n",
       "      <th>75%</th>\n",
       "      <td>NaN</td>\n",
       "      <td>96.000000</td>\n",
       "      <td>NaN</td>\n",
       "    </tr>\n",
       "    <tr>\n",
       "      <th>max</th>\n",
       "      <td>NaN</td>\n",
       "      <td>99.000000</td>\n",
       "      <td>NaN</td>\n",
       "    </tr>\n",
       "  </tbody>\n",
       "</table>\n",
       "</div>"
      ],
      "text/plain": [
       "       Unnamed: 2   Metascore  Unnamed: 7\n",
       "count         0.0  100.000000         0.0\n",
       "mean          NaN   95.480000         NaN\n",
       "std           NaN    1.251101         NaN\n",
       "min           NaN   94.000000         NaN\n",
       "25%           NaN   94.000000         NaN\n",
       "50%           NaN   95.000000         NaN\n",
       "75%           NaN   96.000000         NaN\n",
       "max           NaN   99.000000         NaN"
      ]
     },
     "execution_count": 435,
     "metadata": {},
     "output_type": "execute_result"
    }
   ],
   "source": [
    "df.describe()"
   ]
  },
  {
   "cell_type": "markdown",
   "id": "50c31f4f",
   "metadata": {},
   "source": [
    "## Removing Nan"
   ]
  },
  {
   "cell_type": "code",
   "execution_count": 436,
   "id": "5005c35e",
   "metadata": {},
   "outputs": [],
   "source": [
    "df = df.dropna(axis=1)"
   ]
  },
  {
   "cell_type": "code",
   "execution_count": 437,
   "id": "d01ccb80",
   "metadata": {},
   "outputs": [
    {
     "data": {
      "text/html": [
       "<div>\n",
       "<style scoped>\n",
       "    .dataframe tbody tr th:only-of-type {\n",
       "        vertical-align: middle;\n",
       "    }\n",
       "\n",
       "    .dataframe tbody tr th {\n",
       "        vertical-align: top;\n",
       "    }\n",
       "\n",
       "    .dataframe thead th {\n",
       "        text-align: right;\n",
       "    }\n",
       "</style>\n",
       "<table border=\"1\" class=\"dataframe\">\n",
       "  <thead>\n",
       "    <tr style=\"text-align: right;\">\n",
       "      <th></th>\n",
       "      <th>Name</th>\n",
       "      <th>Platform</th>\n",
       "      <th>Metascore</th>\n",
       "      <th>Date</th>\n",
       "      <th>Title</th>\n",
       "    </tr>\n",
       "    <tr>\n",
       "      <th>Rank</th>\n",
       "      <th></th>\n",
       "      <th></th>\n",
       "      <th></th>\n",
       "      <th></th>\n",
       "      <th></th>\n",
       "    </tr>\n",
       "  </thead>\n",
       "  <tbody>\n",
       "    <tr>\n",
       "      <th>1</th>\n",
       "      <td>The Legend of Zelda: Ocarina of Time</td>\n",
       "      <td>Nintendo 64</td>\n",
       "      <td>99</td>\n",
       "      <td>23-Nov-98</td>\n",
       "      <td>As a young boy, Link is tricked by Ganondorf, ...</td>\n",
       "    </tr>\n",
       "    <tr>\n",
       "      <th>2</th>\n",
       "      <td>Tony Hawk's Pro Skater 2</td>\n",
       "      <td>PlayStation</td>\n",
       "      <td>98</td>\n",
       "      <td>20-Sep-00</td>\n",
       "      <td>As most major publishers' development efforts ...</td>\n",
       "    </tr>\n",
       "    <tr>\n",
       "      <th>3</th>\n",
       "      <td>Grand Theft Auto IV</td>\n",
       "      <td>PlayStation 3</td>\n",
       "      <td>98</td>\n",
       "      <td>29-Apr-08</td>\n",
       "      <td>[Metacritic's 2008 PS3 Game of the Year; Also ...</td>\n",
       "    </tr>\n",
       "    <tr>\n",
       "      <th>4</th>\n",
       "      <td>SoulCalibur</td>\n",
       "      <td>Dreamcast</td>\n",
       "      <td>98</td>\n",
       "      <td>8-Sep-99</td>\n",
       "      <td>This is a tale of souls and swords, transcendi...</td>\n",
       "    </tr>\n",
       "    <tr>\n",
       "      <th>5</th>\n",
       "      <td>Grand Theft Auto IV</td>\n",
       "      <td>Xbox 360</td>\n",
       "      <td>98</td>\n",
       "      <td>29-Apr-08</td>\n",
       "      <td>[Metacritic's 2008 Xbox 360 Game of the Year; ...</td>\n",
       "    </tr>\n",
       "  </tbody>\n",
       "</table>\n",
       "</div>"
      ],
      "text/plain": [
       "                                      Name       Platform  Metascore  \\\n",
       "Rank                                                                   \n",
       "1     The Legend of Zelda: Ocarina of Time    Nintendo 64         99   \n",
       "2                 Tony Hawk's Pro Skater 2    PlayStation         98   \n",
       "3                      Grand Theft Auto IV  PlayStation 3         98   \n",
       "4                              SoulCalibur      Dreamcast         98   \n",
       "5                      Grand Theft Auto IV       Xbox 360         98   \n",
       "\n",
       "           Date                                              Title  \n",
       "Rank                                                                \n",
       "1     23-Nov-98  As a young boy, Link is tricked by Ganondorf, ...  \n",
       "2     20-Sep-00  As most major publishers' development efforts ...  \n",
       "3     29-Apr-08  [Metacritic's 2008 PS3 Game of the Year; Also ...  \n",
       "4      8-Sep-99  This is a tale of souls and swords, transcendi...  \n",
       "5     29-Apr-08  [Metacritic's 2008 Xbox 360 Game of the Year; ...  "
      ]
     },
     "execution_count": 437,
     "metadata": {},
     "output_type": "execute_result"
    }
   ],
   "source": [
    "# Seeing the data again\n",
    "df.head()"
   ]
  },
  {
   "cell_type": "code",
   "execution_count": 438,
   "id": "d5a74b24",
   "metadata": {},
   "outputs": [
    {
     "data": {
      "text/html": [
       "<div>\n",
       "<style scoped>\n",
       "    .dataframe tbody tr th:only-of-type {\n",
       "        vertical-align: middle;\n",
       "    }\n",
       "\n",
       "    .dataframe tbody tr th {\n",
       "        vertical-align: top;\n",
       "    }\n",
       "\n",
       "    .dataframe thead th {\n",
       "        text-align: right;\n",
       "    }\n",
       "</style>\n",
       "<table border=\"1\" class=\"dataframe\">\n",
       "  <thead>\n",
       "    <tr style=\"text-align: right;\">\n",
       "      <th></th>\n",
       "      <th>Metascore</th>\n",
       "    </tr>\n",
       "  </thead>\n",
       "  <tbody>\n",
       "    <tr>\n",
       "      <th>count</th>\n",
       "      <td>100.000000</td>\n",
       "    </tr>\n",
       "    <tr>\n",
       "      <th>mean</th>\n",
       "      <td>95.480000</td>\n",
       "    </tr>\n",
       "    <tr>\n",
       "      <th>std</th>\n",
       "      <td>1.251101</td>\n",
       "    </tr>\n",
       "    <tr>\n",
       "      <th>min</th>\n",
       "      <td>94.000000</td>\n",
       "    </tr>\n",
       "    <tr>\n",
       "      <th>25%</th>\n",
       "      <td>94.000000</td>\n",
       "    </tr>\n",
       "    <tr>\n",
       "      <th>50%</th>\n",
       "      <td>95.000000</td>\n",
       "    </tr>\n",
       "    <tr>\n",
       "      <th>75%</th>\n",
       "      <td>96.000000</td>\n",
       "    </tr>\n",
       "    <tr>\n",
       "      <th>max</th>\n",
       "      <td>99.000000</td>\n",
       "    </tr>\n",
       "  </tbody>\n",
       "</table>\n",
       "</div>"
      ],
      "text/plain": [
       "        Metascore\n",
       "count  100.000000\n",
       "mean    95.480000\n",
       "std      1.251101\n",
       "min     94.000000\n",
       "25%     94.000000\n",
       "50%     95.000000\n",
       "75%     96.000000\n",
       "max     99.000000"
      ]
     },
     "execution_count": 438,
     "metadata": {},
     "output_type": "execute_result"
    }
   ],
   "source": [
    "df.describe()"
   ]
  },
  {
   "cell_type": "markdown",
   "id": "abb55e86",
   "metadata": {},
   "source": [
    "## Avarage of the all games"
   ]
  },
  {
   "cell_type": "code",
   "execution_count": 439,
   "id": "54bc1ced",
   "metadata": {},
   "outputs": [
    {
     "data": {
      "text/plain": [
       "95.48"
      ]
     },
     "execution_count": 439,
     "metadata": {},
     "output_type": "execute_result"
    }
   ],
   "source": [
    "df['Metascore'].mean()"
   ]
  },
  {
   "cell_type": "markdown",
   "id": "7d428cd3",
   "metadata": {},
   "source": [
    "## Transforming the 'Data' to format datetime"
   ]
  },
  {
   "cell_type": "code",
   "execution_count": 440,
   "id": "48ab9a22",
   "metadata": {},
   "outputs": [
    {
     "data": {
      "text/plain": [
       "Rank\n",
       "1      23-Nov-98\n",
       "2      20-Sep-00\n",
       "3      29-Apr-08\n",
       "4       8-Sep-99\n",
       "5      29-Apr-08\n",
       "         ...    \n",
       "96     29-Feb-96\n",
       "97     22-Jun-96\n",
       "98      5-Nov-07\n",
       "99     25-Mar-13\n",
       "100    25-Sep-07\n",
       "Name: Date, Length: 100, dtype: object"
      ]
     },
     "execution_count": 440,
     "metadata": {},
     "output_type": "execute_result"
    }
   ],
   "source": [
    "df['Date']"
   ]
  },
  {
   "cell_type": "code",
   "execution_count": 441,
   "id": "83aff2e4",
   "metadata": {},
   "outputs": [],
   "source": [
    "df_new_date = pd.to_datetime(df['Date'])"
   ]
  },
  {
   "cell_type": "code",
   "execution_count": 442,
   "id": "516cc169",
   "metadata": {},
   "outputs": [],
   "source": [
    "df_new_date = pd.Series(df_new_data)"
   ]
  },
  {
   "cell_type": "code",
   "execution_count": 443,
   "id": "8e7e450a",
   "metadata": {},
   "outputs": [
    {
     "name": "stderr",
     "output_type": "stream",
     "text": [
      "C:\\Users\\joaov\\AppData\\Local\\Temp\\ipykernel_11212\\1829910949.py:1: SettingWithCopyWarning: \n",
      "A value is trying to be set on a copy of a slice from a DataFrame.\n",
      "Try using .loc[row_indexer,col_indexer] = value instead\n",
      "\n",
      "See the caveats in the documentation: https://pandas.pydata.org/pandas-docs/stable/user_guide/indexing.html#returning-a-view-versus-a-copy\n",
      "  df.loc[:,'Date'] = df_new_date\n",
      "C:\\Users\\joaov\\AppData\\Local\\Temp\\ipykernel_11212\\1829910949.py:1: DeprecationWarning: In a future version, `df.iloc[:, i] = newvals` will attempt to set the values inplace instead of always setting a new array. To retain the old behavior, use either `df[df.columns[i]] = newvals` or, if columns are non-unique, `df.isetitem(i, newvals)`\n",
      "  df.loc[:,'Date'] = df_new_date\n"
     ]
    }
   ],
   "source": [
    "df.loc[:,'Date'] = df_new_date"
   ]
  },
  {
   "cell_type": "code",
   "execution_count": 444,
   "id": "d66ee675",
   "metadata": {},
   "outputs": [
    {
     "data": {
      "text/html": [
       "<div>\n",
       "<style scoped>\n",
       "    .dataframe tbody tr th:only-of-type {\n",
       "        vertical-align: middle;\n",
       "    }\n",
       "\n",
       "    .dataframe tbody tr th {\n",
       "        vertical-align: top;\n",
       "    }\n",
       "\n",
       "    .dataframe thead th {\n",
       "        text-align: right;\n",
       "    }\n",
       "</style>\n",
       "<table border=\"1\" class=\"dataframe\">\n",
       "  <thead>\n",
       "    <tr style=\"text-align: right;\">\n",
       "      <th></th>\n",
       "      <th>Name</th>\n",
       "      <th>Platform</th>\n",
       "      <th>Metascore</th>\n",
       "      <th>Date</th>\n",
       "      <th>Title</th>\n",
       "    </tr>\n",
       "    <tr>\n",
       "      <th>Rank</th>\n",
       "      <th></th>\n",
       "      <th></th>\n",
       "      <th></th>\n",
       "      <th></th>\n",
       "      <th></th>\n",
       "    </tr>\n",
       "  </thead>\n",
       "  <tbody>\n",
       "    <tr>\n",
       "      <th>1</th>\n",
       "      <td>The Legend of Zelda: Ocarina of Time</td>\n",
       "      <td>Nintendo 64</td>\n",
       "      <td>99</td>\n",
       "      <td>1998-11-23</td>\n",
       "      <td>As a young boy, Link is tricked by Ganondorf, ...</td>\n",
       "    </tr>\n",
       "    <tr>\n",
       "      <th>2</th>\n",
       "      <td>Tony Hawk's Pro Skater 2</td>\n",
       "      <td>PlayStation</td>\n",
       "      <td>98</td>\n",
       "      <td>2000-09-20</td>\n",
       "      <td>As most major publishers' development efforts ...</td>\n",
       "    </tr>\n",
       "    <tr>\n",
       "      <th>3</th>\n",
       "      <td>Grand Theft Auto IV</td>\n",
       "      <td>PlayStation 3</td>\n",
       "      <td>98</td>\n",
       "      <td>2008-04-29</td>\n",
       "      <td>[Metacritic's 2008 PS3 Game of the Year; Also ...</td>\n",
       "    </tr>\n",
       "    <tr>\n",
       "      <th>4</th>\n",
       "      <td>SoulCalibur</td>\n",
       "      <td>Dreamcast</td>\n",
       "      <td>98</td>\n",
       "      <td>1999-09-08</td>\n",
       "      <td>This is a tale of souls and swords, transcendi...</td>\n",
       "    </tr>\n",
       "    <tr>\n",
       "      <th>5</th>\n",
       "      <td>Grand Theft Auto IV</td>\n",
       "      <td>Xbox 360</td>\n",
       "      <td>98</td>\n",
       "      <td>2008-04-29</td>\n",
       "      <td>[Metacritic's 2008 Xbox 360 Game of the Year; ...</td>\n",
       "    </tr>\n",
       "    <tr>\n",
       "      <th>...</th>\n",
       "      <td>...</td>\n",
       "      <td>...</td>\n",
       "      <td>...</td>\n",
       "      <td>...</td>\n",
       "      <td>...</td>\n",
       "    </tr>\n",
       "    <tr>\n",
       "      <th>96</th>\n",
       "      <td>Sid Meier's Civilization II</td>\n",
       "      <td>PC</td>\n",
       "      <td>94</td>\n",
       "      <td>1996-02-29</td>\n",
       "      <td>An empire-building turn-based strategy game. T...</td>\n",
       "    </tr>\n",
       "    <tr>\n",
       "      <th>97</th>\n",
       "      <td>Quake</td>\n",
       "      <td>PC</td>\n",
       "      <td>94</td>\n",
       "      <td>1996-06-22</td>\n",
       "      <td>Rage through 32 single player levels and 6 dea...</td>\n",
       "    </tr>\n",
       "    <tr>\n",
       "      <th>98</th>\n",
       "      <td>Call of Duty 4: Modern Warfare</td>\n",
       "      <td>Xbox 360</td>\n",
       "      <td>94</td>\n",
       "      <td>2007-11-05</td>\n",
       "      <td>As Call of Duty 4: Modern Warfare's single pla...</td>\n",
       "    </tr>\n",
       "    <tr>\n",
       "      <th>99</th>\n",
       "      <td>BioShock Infinite</td>\n",
       "      <td>PC</td>\n",
       "      <td>94</td>\n",
       "      <td>2013-03-25</td>\n",
       "      <td>Initially conceived as a floating symbol of Am...</td>\n",
       "    </tr>\n",
       "    <tr>\n",
       "      <th>100</th>\n",
       "      <td>Halo 3</td>\n",
       "      <td>Xbox 360</td>\n",
       "      <td>94</td>\n",
       "      <td>2007-09-25</td>\n",
       "      <td>Halo 3 is the third game in the Halo Trilogy a...</td>\n",
       "    </tr>\n",
       "  </tbody>\n",
       "</table>\n",
       "<p>100 rows × 5 columns</p>\n",
       "</div>"
      ],
      "text/plain": [
       "                                      Name       Platform  Metascore  \\\n",
       "Rank                                                                   \n",
       "1     The Legend of Zelda: Ocarina of Time    Nintendo 64         99   \n",
       "2                 Tony Hawk's Pro Skater 2    PlayStation         98   \n",
       "3                      Grand Theft Auto IV  PlayStation 3         98   \n",
       "4                              SoulCalibur      Dreamcast         98   \n",
       "5                      Grand Theft Auto IV       Xbox 360         98   \n",
       "...                                    ...            ...        ...   \n",
       "96             Sid Meier's Civilization II             PC         94   \n",
       "97                                   Quake             PC         94   \n",
       "98          Call of Duty 4: Modern Warfare       Xbox 360         94   \n",
       "99                       BioShock Infinite             PC         94   \n",
       "100                                 Halo 3       Xbox 360         94   \n",
       "\n",
       "           Date                                              Title  \n",
       "Rank                                                                \n",
       "1    1998-11-23  As a young boy, Link is tricked by Ganondorf, ...  \n",
       "2    2000-09-20  As most major publishers' development efforts ...  \n",
       "3    2008-04-29  [Metacritic's 2008 PS3 Game of the Year; Also ...  \n",
       "4    1999-09-08  This is a tale of souls and swords, transcendi...  \n",
       "5    2008-04-29  [Metacritic's 2008 Xbox 360 Game of the Year; ...  \n",
       "...         ...                                                ...  \n",
       "96   1996-02-29  An empire-building turn-based strategy game. T...  \n",
       "97   1996-06-22  Rage through 32 single player levels and 6 dea...  \n",
       "98   2007-11-05  As Call of Duty 4: Modern Warfare's single pla...  \n",
       "99   2013-03-25  Initially conceived as a floating symbol of Am...  \n",
       "100  2007-09-25  Halo 3 is the third game in the Halo Trilogy a...  \n",
       "\n",
       "[100 rows x 5 columns]"
      ]
     },
     "execution_count": 444,
     "metadata": {},
     "output_type": "execute_result"
    }
   ],
   "source": [
    "df"
   ]
  },
  {
   "cell_type": "markdown",
   "id": "41d9c634",
   "metadata": {},
   "source": [
    "## The oldest game and the newest game"
   ]
  },
  {
   "cell_type": "code",
   "execution_count": 445,
   "id": "b7df6b7e",
   "metadata": {},
   "outputs": [
    {
     "data": {
      "text/html": [
       "<div>\n",
       "<style scoped>\n",
       "    .dataframe tbody tr th:only-of-type {\n",
       "        vertical-align: middle;\n",
       "    }\n",
       "\n",
       "    .dataframe tbody tr th {\n",
       "        vertical-align: top;\n",
       "    }\n",
       "\n",
       "    .dataframe thead th {\n",
       "        text-align: right;\n",
       "    }\n",
       "</style>\n",
       "<table border=\"1\" class=\"dataframe\">\n",
       "  <thead>\n",
       "    <tr style=\"text-align: right;\">\n",
       "      <th></th>\n",
       "      <th></th>\n",
       "      <th></th>\n",
       "    </tr>\n",
       "    <tr>\n",
       "      <th>Date</th>\n",
       "      <th>Name</th>\n",
       "      <th>Platform</th>\n",
       "    </tr>\n",
       "  </thead>\n",
       "  <tbody>\n",
       "    <tr>\n",
       "      <th>1996-02-29</th>\n",
       "      <th>Sid Meier's Civilization II</th>\n",
       "      <th>PC</th>\n",
       "    </tr>\n",
       "  </tbody>\n",
       "</table>\n",
       "</div>"
      ],
      "text/plain": [
       "Empty DataFrame\n",
       "Columns: []\n",
       "Index: [(1996-02-29 00:00:00, Sid Meier's Civilization II, PC)]"
      ]
     },
     "execution_count": 445,
     "metadata": {},
     "output_type": "execute_result"
    }
   ],
   "source": [
    "game_more_oldest = df.groupby(['Date','Name','Platform'])[['Date']].sum(numeric_only=True)[0:1]\n",
    "game_more_oldest"
   ]
  },
  {
   "cell_type": "code",
   "execution_count": 446,
   "id": "a53a5109",
   "metadata": {},
   "outputs": [
    {
     "data": {
      "text/html": [
       "<div>\n",
       "<style scoped>\n",
       "    .dataframe tbody tr th:only-of-type {\n",
       "        vertical-align: middle;\n",
       "    }\n",
       "\n",
       "    .dataframe tbody tr th {\n",
       "        vertical-align: top;\n",
       "    }\n",
       "\n",
       "    .dataframe thead th {\n",
       "        text-align: right;\n",
       "    }\n",
       "</style>\n",
       "<table border=\"1\" class=\"dataframe\">\n",
       "  <thead>\n",
       "    <tr style=\"text-align: right;\">\n",
       "      <th></th>\n",
       "      <th></th>\n",
       "      <th></th>\n",
       "    </tr>\n",
       "    <tr>\n",
       "      <th>Date</th>\n",
       "      <th>Name</th>\n",
       "      <th>Platform</th>\n",
       "    </tr>\n",
       "  </thead>\n",
       "  <tbody>\n",
       "    <tr>\n",
       "      <th>2023-02-08</th>\n",
       "      <th>Metroid Prime Remastered</th>\n",
       "      <th>Switch</th>\n",
       "    </tr>\n",
       "  </tbody>\n",
       "</table>\n",
       "</div>"
      ],
      "text/plain": [
       "Empty DataFrame\n",
       "Columns: []\n",
       "Index: [(2023-02-08 00:00:00, Metroid Prime Remastered, Switch)]"
      ]
     },
     "execution_count": 446,
     "metadata": {},
     "output_type": "execute_result"
    }
   ],
   "source": [
    "game_more_newest = df.groupby(['Date','Name','Platform'])[['Date']].sum(numeric_only=True).tail(1)\n",
    "game_more_newest "
   ]
  },
  {
   "cell_type": "markdown",
   "id": "26606725",
   "metadata": {},
   "source": [
    "## Platforms more used"
   ]
  },
  {
   "cell_type": "code",
   "execution_count": 447,
   "id": "c666b0e6",
   "metadata": {},
   "outputs": [
    {
     "data": {
      "text/plain": [
       "array(['Nintendo 64', 'PlayStation', 'PlayStation 3', 'Dreamcast',\n",
       "       'Xbox 360', 'Wii', 'Xbox One', 'PC', 'Switch', 'PlayStation 2',\n",
       "       'PlayStation 4', 'GameCube', 'Xbox', 'Wii U', 'Xbox Series X',\n",
       "       'PlayStation 5', 'Game Boy Advance', '3DS'], dtype=object)"
      ]
     },
     "execution_count": 447,
     "metadata": {},
     "output_type": "execute_result"
    }
   ],
   "source": [
    "df.Platform.unique()"
   ]
  },
  {
   "cell_type": "code",
   "execution_count": 448,
   "id": "74a484a7",
   "metadata": {},
   "outputs": [
    {
     "data": {
      "text/html": [
       "<div>\n",
       "<style scoped>\n",
       "    .dataframe tbody tr th:only-of-type {\n",
       "        vertical-align: middle;\n",
       "    }\n",
       "\n",
       "    .dataframe tbody tr th {\n",
       "        vertical-align: top;\n",
       "    }\n",
       "\n",
       "    .dataframe thead th {\n",
       "        text-align: right;\n",
       "    }\n",
       "</style>\n",
       "<table border=\"1\" class=\"dataframe\">\n",
       "  <thead>\n",
       "    <tr style=\"text-align: right;\">\n",
       "      <th></th>\n",
       "      <th>Platform</th>\n",
       "    </tr>\n",
       "  </thead>\n",
       "  <tbody>\n",
       "    <tr>\n",
       "      <th>3DS</th>\n",
       "      <td>1.0</td>\n",
       "    </tr>\n",
       "    <tr>\n",
       "      <th>Wii U</th>\n",
       "      <td>1.0</td>\n",
       "    </tr>\n",
       "    <tr>\n",
       "      <th>PlayStation 5</th>\n",
       "      <td>1.0</td>\n",
       "    </tr>\n",
       "    <tr>\n",
       "      <th>Game Boy Advance</th>\n",
       "      <td>2.0</td>\n",
       "    </tr>\n",
       "    <tr>\n",
       "      <th>Xbox Series X</th>\n",
       "      <td>2.0</td>\n",
       "    </tr>\n",
       "    <tr>\n",
       "      <th>Xbox</th>\n",
       "      <td>3.0</td>\n",
       "    </tr>\n",
       "    <tr>\n",
       "      <th>Dreamcast</th>\n",
       "      <td>3.0</td>\n",
       "    </tr>\n",
       "    <tr>\n",
       "      <th>Wii</th>\n",
       "      <td>4.0</td>\n",
       "    </tr>\n",
       "    <tr>\n",
       "      <th>Xbox One</th>\n",
       "      <td>4.0</td>\n",
       "    </tr>\n",
       "    <tr>\n",
       "      <th>Nintendo 64</th>\n",
       "      <td>4.0</td>\n",
       "    </tr>\n",
       "    <tr>\n",
       "      <th>PlayStation 4</th>\n",
       "      <td>5.0</td>\n",
       "    </tr>\n",
       "    <tr>\n",
       "      <th>GameCube</th>\n",
       "      <td>5.0</td>\n",
       "    </tr>\n",
       "    <tr>\n",
       "      <th>PlayStation</th>\n",
       "      <td>5.0</td>\n",
       "    </tr>\n",
       "    <tr>\n",
       "      <th>Switch</th>\n",
       "      <td>7.0</td>\n",
       "    </tr>\n",
       "    <tr>\n",
       "      <th>PlayStation 2</th>\n",
       "      <td>12.0</td>\n",
       "    </tr>\n",
       "    <tr>\n",
       "      <th>Xbox 360</th>\n",
       "      <td>13.0</td>\n",
       "    </tr>\n",
       "    <tr>\n",
       "      <th>PlayStation 3</th>\n",
       "      <td>13.0</td>\n",
       "    </tr>\n",
       "    <tr>\n",
       "      <th>PC</th>\n",
       "      <td>15.0</td>\n",
       "    </tr>\n",
       "  </tbody>\n",
       "</table>\n",
       "</div>"
      ],
      "text/plain": [
       "                  Platform\n",
       "3DS                    1.0\n",
       "Wii U                  1.0\n",
       "PlayStation 5          1.0\n",
       "Game Boy Advance       2.0\n",
       "Xbox Series X          2.0\n",
       "Xbox                   3.0\n",
       "Dreamcast              3.0\n",
       "Wii                    4.0\n",
       "Xbox One               4.0\n",
       "Nintendo 64            4.0\n",
       "PlayStation 4          5.0\n",
       "GameCube               5.0\n",
       "PlayStation            5.0\n",
       "Switch                 7.0\n",
       "PlayStation 2         12.0\n",
       "Xbox 360              13.0\n",
       "PlayStation 3         13.0\n",
       "PC                    15.0"
      ]
     },
     "execution_count": 448,
     "metadata": {},
     "output_type": "execute_result"
    }
   ],
   "source": [
    "df.Platform.value_counts(normalize=True).to_frame().sort_values('Platform')*100"
   ]
  },
  {
   "cell_type": "code",
   "execution_count": 449,
   "id": "43414d5c",
   "metadata": {},
   "outputs": [
    {
     "data": {
      "text/plain": [
       "<Axes: xlabel='Amount', ylabel='Platforms'>"
      ]
     },
     "execution_count": 449,
     "metadata": {},
     "output_type": "execute_result"
    },
    {
     "data": {
      "image/png": "[encoded data removed]",
      "text/plain": [
       "<Figure size 1400x1000 with 1 Axes>"
      ]
     },
     "metadata": {},
     "output_type": "display_data"
    }
   ],
   "source": [
    "df_Percentual_Platforms = df.Platform.value_counts(normalize=True).to_frame().sort_values('Platform')*100\n",
    "\n",
    "df_Percentual_Platforms.plot(kind='barh', figsize=(14,10), color='teal', xlabel= 'Amount', ylabel='Platforms')"
   ]
  },
  {
   "cell_type": "markdown",
   "id": "f5c49f6d",
   "metadata": {},
   "source": [
    "## Statistics of the Metascore"
   ]
  },
  {
   "cell_type": "code",
   "execution_count": 450,
   "id": "94da3569",
   "metadata": {},
   "outputs": [
    {
     "data": {
      "text/plain": [
       "Text(0.5, 0, 'grade')"
      ]
     },
     "execution_count": 450,
     "metadata": {},
     "output_type": "execute_result"
    },
    {
     "data": {
      "image/png": "[encoded data removed]",
      "text/plain": [
       "<Figure size 640x480 with 1 Axes>"
      ]
     },
     "metadata": {},
     "output_type": "display_data"
    }
   ],
   "source": [
    "grade_by_platform = df.groupby('Platform')[['Metascore']].mean()\n",
    "ax = sns.boxplot(data=grade_by_platform, orient='h')\n",
    "ax.set_xlabel('grade',fontsize= 18)"
   ]
  },
  {
   "cell_type": "code",
   "execution_count": 452,
   "id": "0ed62afc",
   "metadata": {},
   "outputs": [
    {
     "data": {
      "text/plain": [
       "Text(0.5, 1.0, 'Amount of platforms by grade')"
      ]
     },
     "execution_count": 452,
     "metadata": {},
     "output_type": "execute_result"
    },
    {
     "data": {
      "image/png": "[encoded data removed]",
      "text/plain": [
       "<Figure size 640x480 with 1 Axes>"
      ]
     },
     "metadata": {},
     "output_type": "display_data"
    }
   ],
   "source": [
    "score_grade = df['Metascore'].value_counts().sort_index()\n",
    "\n",
    "score_grade.plot(kind='bar', color='teal')\n",
    "\n",
    "plt.xlabel('Grade')\n",
    "plt.ylabel('Amount of Platforms')\n",
    "plt.title('Amount of platforms by grade')\n",
    "\n"
   ]
  },
  {
   "cell_type": "code",
   "execution_count": null,
   "id": "2a7bb2ac",
   "metadata": {},
   "outputs": [],
   "source": []
  }
 ],
 "metadata": {
  "kernelspec": {
   "display_name": "Python 3 (ipykernel)",
   "language": "python",
   "name": "python3"
  },
  "language_info": {
   "codemirror_mode": {
    "name": "ipython",
    "version": 3
   },
   "file_extension": ".py",
   "mimetype": "text/x-python",
   "name": "python",
   "nbconvert_exporter": "python",
   "pygments_lexer": "ipython3",
   "version": "3.10.9"
  }
 },
 "nbformat": 4,
 "nbformat_minor": 5
}
